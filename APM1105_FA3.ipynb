{
 "cells": [
  {
   "cell_type": "markdown",
   "id": "7612ff01",
   "metadata": {},
   "source": [
    "## 1. The volume of a sphere with radius r is 43πr3. What is the volume of a sphere with radius 5?"
   ]
  },
  {
   "cell_type": "code",
   "execution_count": 7,
   "id": "09d7284e",
   "metadata": {},
   "outputs": [
    {
     "name": "stdout",
     "output_type": "stream",
     "text": [
      "Radius:5\n"
     ]
    },
    {
     "data": {
      "text/plain": [
       "785.3981633974482"
      ]
     },
     "execution_count": 7,
     "metadata": {},
     "output_type": "execute_result"
    }
   ],
   "source": [
    "import math\n",
    "r = float(input(\"Radius:\"))\n",
    "a = (4/2)*(math.pi)*(r**3)\n",
    "a"
   ]
  },
  {
   "cell_type": "markdown",
   "id": "d2a7361f",
   "metadata": {},
   "source": [
    "## 2. Suppose the cover price of a book is 24.95 dollars, but bookstores get a 40% discount. Shipping costs 3 dollars for the first copy and 75 cents for each additional copy. What is the total wholesale cost for 60 copies?"
   ]
  },
  {
   "cell_type": "code",
   "execution_count": 6,
   "id": "47a567da",
   "metadata": {},
   "outputs": [
    {
     "name": "stdout",
     "output_type": "stream",
     "text": [
      "Copies:60\n",
      "The total wholesale cost for 60 copies is 646.05\n"
     ]
    }
   ],
   "source": [
    "copies = float(input(\"Copies:\"))\n",
    "book = 24.95*copies\n",
    "cents = (75*59)/100\n",
    "shipping = 3+cents\n",
    "discount= book*0.4\n",
    "wholesale= discount+shipping\n",
    "print(\"The total wholesale cost for 60 copies is %0.2f\" %wholesale )"
   ]
  },
  {
   "cell_type": "markdown",
   "id": "10d8962a",
   "metadata": {},
   "source": [
    " ##  3. If I leave my house at 6:52 am and run 1 mile at an easy pace (8:15 per mile), then 3 miles at tempo (7:12 per mile) and 1 mile at an easy pace again, what time do I get home for breakfast? "
   ]
  },
  {
   "cell_type": "code",
   "execution_count": 3,
   "id": "54d3f9cb",
   "metadata": {},
   "outputs": [
    {
     "name": "stdout",
     "output_type": "stream",
     "text": [
      "2024-02-06 06:58:52.500000\n"
     ]
    }
   ],
   "source": [
    "from datetime import datetime, timedelta\n",
    "d = '2024-02-06 06:52:00.000000'\n",
    "dt = datetime.strptime(d, '%Y-%m-%d %H:%M:%S.%f')\n",
    "m = 8 + (15/60)\n",
    "n = 7 + (12/60)\n",
    "h=m//60\n",
    "h1=(m%60)/2\n",
    "h2=(m%60)/3\n",
    "g = dt + timedelta(minutes=h1)\n",
    "g1 = g + timedelta(minutes=h2)\n",
    "print(g1)"
   ]
  },
  {
   "cell_type": "code",
   "execution_count": null,
   "id": "93917e49",
   "metadata": {},
   "outputs": [],
   "source": []
  }
 ],
 "metadata": {
  "kernelspec": {
   "display_name": "Python 3 (ipykernel)",
   "language": "python",
   "name": "python3"
  },
  "language_info": {
   "codemirror_mode": {
    "name": "ipython",
    "version": 3
   },
   "file_extension": ".py",
   "mimetype": "text/x-python",
   "name": "python",
   "nbconvert_exporter": "python",
   "pygments_lexer": "ipython3",
   "version": "3.9.13"
  }
 },
 "nbformat": 4,
 "nbformat_minor": 5
}
